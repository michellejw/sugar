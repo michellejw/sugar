{
 "cells": [
  {
   "cell_type": "markdown",
   "id": "9130bda1-1f78-4c3b-93f3-db01dbab4e8c",
   "metadata": {},
   "source": [
    "In this notebook I'll be refining what I started yesterday. I will be looking for a better way to visualize total daily insulin along with daily CGM stats."
   ]
  },
  {
   "cell_type": "code",
   "execution_count": 2,
   "id": "05cf558a-d48c-4039-a4c5-7bf4f9dd3835",
   "metadata": {},
   "outputs": [],
   "source": [
    "# IMPORTS\n",
    "\n",
    "# since this notebook lives in a sub-folder of the main project, I'll add the main folder to the python path\n",
    "import sys\n",
    "sys.path.append(\"../\")\n",
    "\n",
    "# Load my module\n",
    "from tools.glooko import read_all\n",
    "\n",
    "# Load extra stuff that I need\n",
    "import numpy as np\n",
    "\n",
    "# Plotting (matplotlib widge allows for interactivity in the live notebook)\n",
    "import matplotlib.pyplot as plt\n",
    "%matplotlib widget\n"
   ]
  },
  {
   "cell_type": "code",
   "execution_count": null,
   "id": "82f4cdf4-c709-44c0-9d8f-53e703e3555a",
   "metadata": {},
   "outputs": [],
   "source": [
    "# LOAD DATA\n",
    "# Note that I added the carb and insulin correction columns to the read_all module \n",
    "df_cgm, df_bolus, df_basal, df_insulin = read_all(r\"../data\")\n",
    "\n",
    "# This is important later when doing groupby\n",
    "df_cgm.drop(\"sn_cgm\", axis=1, inplace=True)"
   ]
  }
 ],
 "metadata": {
  "kernelspec": {
   "display_name": "Python 3 (ipykernel)",
   "language": "python",
   "name": "python3"
  },
  "language_info": {
   "codemirror_mode": {
    "name": "ipython",
    "version": 3
   },
   "file_extension": ".py",
   "mimetype": "text/x-python",
   "name": "python",
   "nbconvert_exporter": "python",
   "pygments_lexer": "ipython3",
   "version": "3.10.2"
  }
 },
 "nbformat": 4,
 "nbformat_minor": 5
}
