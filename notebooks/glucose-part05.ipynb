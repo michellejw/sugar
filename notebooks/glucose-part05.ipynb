{
 "cells": [
  {
   "cell_type": "markdown",
   "id": "9130bda1-1f78-4c3b-93f3-db01dbab4e8c",
   "metadata": {},
   "source": [
    "In this notebook I'm refining what I started in the last notebook. I am looking for a better way to visualize total daily insulin along with daily CGM stats. I'm exploring a different plotting library that I haven't included here yet: [Plotly](https://plotly.com/python/). Plotly is super cool, but if you scroll down you'll see that I have not really mastered it, so I'm going back to Matplotlib and Seaborn.\n",
    "\n",
    "## TL;DR\n",
    "Also though, if you don't want to wade through the code, here's where I ended up. Alma's total insulin is shown in the top panel, split up into whether it's basal or bolus. The bottom panel shows box plots of her daily CGM values. The boxes show percentiles (25th, 50th, 75th) plus the \"whiskers\" showing min and max values. The gray bar in the background of the bottom panel shows her current target range, and it is between us 70 and 180. \n",
    "\n",
    "><div>\n",
    "<img src=\"../assets/images/2023.03.02-plot01.jpg\" width=\"500\"/>\n",
    "</div>\n",
    "\n",
    "I know the x-axis is still sort of wack but things started looking better about 10 days ago. You may be wondering - what happened 10 days ago? A few things:\n",
    "\n",
    "- switched her pump (Omnipod 5) to automated mode instead of manual\n",
    "- started slightly tightening her carb ratios\n",
    "- did more manual corrections (overrides) as needed (although once her carb ratios are right I shouldn't need so many of those). "
   ]
  },
  {
   "cell_type": "code",
   "execution_count": 5,
   "id": "05cf558a-d48c-4039-a4c5-7bf4f9dd3835",
   "metadata": {},
   "outputs": [],
   "source": [
    "# IMPORTS\n",
    "\n",
    "# since this notebook lives in a sub-folder of the main project, I'll add the main folder to the python path\n",
    "import sys\n",
    "sys.path.append(\"../\")\n",
    "\n",
    "# Load my module\n",
    "from tools.glooko import read_all\n",
    "\n",
    "# Load extra stuff that I need\n",
    "import numpy as np\n",
    "import pandas as pd\n",
    "\n",
    "# Plotting (matplotlib widge allows for interactivity in the live notebook)\n",
    "import matplotlib.pyplot as plt\n",
    "%matplotlib widget\n"
   ]
  },
  {
   "cell_type": "code",
   "execution_count": 6,
   "id": "cf6c87f7-e651-4bd4-b685-1ef91fc45087",
   "metadata": {},
   "outputs": [],
   "source": [
    "# GET UNIQUE DAYS\n",
    "\n",
    "# I added a new module, stats.py, to the tools package. So far it \n",
    "# contains a function to extract unique days\n",
    "from tools.stats import get_yeardays\n",
    "\n",
    "df_cgm, df_bolus, df_basal, df_insulin = read_all(r\"../data\")\n",
    "df_cgm[\"yearday\"] = get_yeardays(df_cgm)\n",
    "df_insulin[\"yearday\"] = get_yeardays(df_insulin)\n",
    "\n",
    "# COMPUTE STATS PER DAY\n",
    "df_cgm.drop(\"sn_cgm\", axis=1, inplace=True)\n",
    "df_cgm_summary = df_cgm[[\"bg\", \"yearday\"]].groupby(\"yearday\").describe()[\"bg\"]\n",
    "\n",
    "\n",
    "df_cgm_summary[\"yearday\"] = df_cgm_summary.index\n",
    "df_cgm_summary[\"time\"] = pd.to_datetime(df_cgm_summary['yearday'], format='%Y-%j')"
   ]
  },
  {
   "cell_type": "markdown",
   "id": "653fd52d-76af-43a2-9849-2b7c8e1cd836",
   "metadata": {},
   "source": [
    "## Plotting daily BGs and insulin summaries using Plotly\n",
    "\n",
    "In this next plot I'm just trying to put daily blood glucose and insulin summaries together in a way that I can try to see patterns. (as an aside I am also using plotly - it seems to take more lines of code but is still kind of easy and makes interactive plots). \n",
    "\n",
    "This is not a great plot. I know what I'm looking for so I can kind of see it, but it's not super clear. I know that in the last few days of the time series, I increased insulin and worked harder on small adjustments to get what I wanted. (e.g., I was pretty determined not to have BG's hitting high 300s every day.) You can BARELY see that in this plot. "
   ]
  },
  {
   "cell_type": "code",
   "execution_count": 7,
   "id": "4d9093e0-4bc8-45c2-b4aa-fddb81e94af8",
   "metadata": {},
   "outputs": [
    {
     "data": {
      "application/vnd.plotly.v1+json": {
       "config": {
        "plotlyServerURL": "https://plot.ly"
       },
       "data": [
        {
         "mode": "markers",
         "name": "Mean BG",
         "type": "scatter",
         "x": [
          "2023-01-18T00:00:00",
          "2023-01-19T00:00:00",
          "2023-01-20T00:00:00",
          "2023-01-21T00:00:00",
          "2023-01-22T00:00:00",
          "2023-01-23T00:00:00",
          "2023-01-24T00:00:00",
          "2023-01-25T00:00:00",
          "2023-01-26T00:00:00",
          "2023-01-27T00:00:00",
          "2023-01-28T00:00:00",
          "2023-01-29T00:00:00",
          "2023-01-30T00:00:00",
          "2023-01-31T00:00:00",
          "2023-02-01T00:00:00",
          "2023-02-02T00:00:00",
          "2023-02-03T00:00:00",
          "2023-02-04T00:00:00",
          "2023-02-05T00:00:00",
          "2023-02-06T00:00:00",
          "2023-02-07T00:00:00",
          "2023-02-08T00:00:00",
          "2023-02-09T00:00:00",
          "2023-02-10T00:00:00",
          "2023-02-11T00:00:00",
          "2023-02-12T00:00:00",
          "2023-02-13T00:00:00",
          "2023-02-14T00:00:00",
          "2023-02-15T00:00:00",
          "2023-02-16T00:00:00",
          "2023-02-17T00:00:00",
          "2023-02-18T00:00:00",
          "2023-02-19T00:00:00",
          "2023-02-20T00:00:00",
          "2023-02-21T00:00:00",
          "2023-02-22T00:00:00",
          "2023-02-23T00:00:00",
          "2023-02-24T00:00:00",
          "2023-02-25T00:00:00",
          "2023-02-26T00:00:00",
          "2023-02-27T00:00:00",
          "2023-02-28T00:00:00",
          "2023-03-01T00:00:00",
          "2023-03-02T00:00:00"
         ],
         "xaxis": "x",
         "y": [
          233.28440366972478,
          216.30555555555554,
          221.79861111111111,
          204.1769547325103,
          214.82986111111111,
          238.62152777777777,
          237.58718861209965,
          189.90972222222223,
          175.10526315789474,
          217.6086956521739,
          180.1157894736842,
          186.0045045045045,
          244.25641025641025,
          228.64084507042253,
          208.70486111111111,
          226.22101449275362,
          216.90972222222223,
          232.90972222222223,
          198.89928057553956,
          161.78445229681978,
          175.44405594405595,
          153.1813953488372,
          160.94097222222223,
          187.08070175438596,
          196.72645739910314,
          224.5,
          240.23321554770317,
          197.40569395017795,
          265.4528985507246,
          212.38888888888889,
          258.3645833333333,
          241.8582375478927,
          155.03900709219857,
          189.47810218978103,
          188.2112676056338,
          173.58214285714286,
          161.50694444444446,
          169.63888888888889,
          165.70848708487085,
          147.13120567375887,
          169.16783216783216,
          172.63953488372093,
          147.8368794326241,
          136
         ],
         "yaxis": "y"
        },
        {
         "mode": "lines",
         "name": "75th",
         "type": "scatter",
         "x": [
          "2023-01-18T00:00:00",
          "2023-01-19T00:00:00",
          "2023-01-20T00:00:00",
          "2023-01-21T00:00:00",
          "2023-01-22T00:00:00",
          "2023-01-23T00:00:00",
          "2023-01-24T00:00:00",
          "2023-01-25T00:00:00",
          "2023-01-26T00:00:00",
          "2023-01-27T00:00:00",
          "2023-01-28T00:00:00",
          "2023-01-29T00:00:00",
          "2023-01-30T00:00:00",
          "2023-01-31T00:00:00",
          "2023-02-01T00:00:00",
          "2023-02-02T00:00:00",
          "2023-02-03T00:00:00",
          "2023-02-04T00:00:00",
          "2023-02-05T00:00:00",
          "2023-02-06T00:00:00",
          "2023-02-07T00:00:00",
          "2023-02-08T00:00:00",
          "2023-02-09T00:00:00",
          "2023-02-10T00:00:00",
          "2023-02-11T00:00:00",
          "2023-02-12T00:00:00",
          "2023-02-13T00:00:00",
          "2023-02-14T00:00:00",
          "2023-02-15T00:00:00",
          "2023-02-16T00:00:00",
          "2023-02-17T00:00:00",
          "2023-02-18T00:00:00",
          "2023-02-19T00:00:00",
          "2023-02-20T00:00:00",
          "2023-02-21T00:00:00",
          "2023-02-22T00:00:00",
          "2023-02-23T00:00:00",
          "2023-02-24T00:00:00",
          "2023-02-25T00:00:00",
          "2023-02-26T00:00:00",
          "2023-02-27T00:00:00",
          "2023-02-28T00:00:00",
          "2023-03-01T00:00:00",
          "2023-03-02T00:00:00"
         ],
         "xaxis": "x",
         "y": [
          256,
          267,
          287.5,
          250.5,
          274,
          277,
          273,
          215.5,
          208,
          246,
          214,
          218.5,
          313,
          266,
          238.25,
          253,
          251.25,
          270,
          228,
          178,
          225,
          193,
          187,
          229,
          236,
          290.5,
          287,
          221,
          290.5,
          253.25,
          287.5,
          292,
          177,
          254,
          228.5,
          224,
          205.25,
          212,
          197.5,
          168.75,
          210.75,
          203.75,
          180,
          154
         ],
         "yaxis": "y"
        },
        {
         "mode": "lines",
         "name": "25th",
         "type": "scatter",
         "x": [
          "2023-01-18T00:00:00",
          "2023-01-19T00:00:00",
          "2023-01-20T00:00:00",
          "2023-01-21T00:00:00",
          "2023-01-22T00:00:00",
          "2023-01-23T00:00:00",
          "2023-01-24T00:00:00",
          "2023-01-25T00:00:00",
          "2023-01-26T00:00:00",
          "2023-01-27T00:00:00",
          "2023-01-28T00:00:00",
          "2023-01-29T00:00:00",
          "2023-01-30T00:00:00",
          "2023-01-31T00:00:00",
          "2023-02-01T00:00:00",
          "2023-02-02T00:00:00",
          "2023-02-03T00:00:00",
          "2023-02-04T00:00:00",
          "2023-02-05T00:00:00",
          "2023-02-06T00:00:00",
          "2023-02-07T00:00:00",
          "2023-02-08T00:00:00",
          "2023-02-09T00:00:00",
          "2023-02-10T00:00:00",
          "2023-02-11T00:00:00",
          "2023-02-12T00:00:00",
          "2023-02-13T00:00:00",
          "2023-02-14T00:00:00",
          "2023-02-15T00:00:00",
          "2023-02-16T00:00:00",
          "2023-02-17T00:00:00",
          "2023-02-18T00:00:00",
          "2023-02-19T00:00:00",
          "2023-02-20T00:00:00",
          "2023-02-21T00:00:00",
          "2023-02-22T00:00:00",
          "2023-02-23T00:00:00",
          "2023-02-24T00:00:00",
          "2023-02-25T00:00:00",
          "2023-02-26T00:00:00",
          "2023-02-27T00:00:00",
          "2023-02-28T00:00:00",
          "2023-03-01T00:00:00",
          "2023-03-02T00:00:00"
         ],
         "xaxis": "x",
         "y": [
          221,
          161,
          160.75,
          166.5,
          166,
          183.75,
          206,
          140,
          138,
          191.75,
          153,
          151.25,
          182,
          196,
          174.75,
          192.75,
          184,
          188.75,
          168,
          124,
          134,
          107.5,
          135,
          145,
          158,
          179,
          194.5,
          169,
          233.75,
          177.5,
          230.75,
          208,
          112.25,
          129,
          143,
          138,
          120.75,
          128,
          139,
          105,
          135,
          141.25,
          114,
          115
         ],
         "yaxis": "y"
        },
        {
         "mode": "lines",
         "name": "Total",
         "type": "scatter",
         "x": [
          "2023-03-02T00:00:00",
          "2023-03-01T00:00:00",
          "2023-02-28T00:00:00",
          "2023-02-27T00:00:00",
          "2023-02-26T00:00:00",
          "2023-02-25T00:00:00",
          "2023-02-24T00:00:00",
          "2023-02-23T00:00:00",
          "2023-02-22T00:00:00",
          "2023-02-21T00:00:00",
          "2023-02-20T00:00:00",
          "2023-02-19T00:00:00",
          "2023-02-18T00:00:00",
          "2023-02-17T00:00:00",
          "2023-02-16T00:00:00",
          "2023-02-15T00:00:00",
          "2023-02-14T00:00:00",
          "2023-02-13T00:00:00",
          "2023-02-12T00:00:00",
          "2023-02-11T00:00:00",
          "2023-02-10T00:00:00",
          "2023-02-09T00:00:00",
          "2023-02-08T00:00:00",
          "2023-02-07T00:00:00",
          "2023-02-06T00:00:00",
          "2023-02-05T00:00:00",
          "2023-02-04T00:00:00",
          "2023-02-03T00:00:00",
          "2023-02-02T00:00:00",
          "2023-02-01T00:00:00",
          "2023-01-31T00:00:00",
          "2023-01-30T00:00:00",
          "2023-01-29T00:00:00",
          "2023-01-28T00:00:00",
          "2023-01-27T00:00:00",
          "2023-01-26T00:00:00",
          "2023-01-25T00:00:00",
          "2023-01-24T00:00:00",
          "2023-01-23T00:00:00",
          "2023-01-22T00:00:00",
          "2023-01-21T00:00:00",
          "2023-01-20T00:00:00",
          "2023-01-19T00:00:00",
          "2023-01-18T00:00:00"
         ],
         "xaxis": "x2",
         "y": [
          5.65,
          9,
          13.15,
          20.05,
          15.15,
          12.85,
          14.35,
          9.8,
          10.15,
          11.3,
          15.85,
          13.45,
          11.2,
          8.5,
          8.45,
          8.9,
          9.05,
          6.95,
          0.6,
          6.6,
          7.15,
          4.65,
          4.45,
          9.2,
          8.25,
          11.8,
          9.9,
          8.75,
          6.85,
          7.550000000000001,
          7.85,
          7.75,
          5.800000000000001,
          5.55,
          4.75,
          3.95,
          4.800000000000001,
          5,
          5.699999999999998,
          5.75,
          5.1,
          6.250000000000001,
          4.85,
          2.1500000000000004
         ],
         "yaxis": "y2"
        },
        {
         "mode": "lines",
         "name": "Basal",
         "type": "scatter",
         "x": [
          "2023-03-02T00:00:00",
          "2023-03-01T00:00:00",
          "2023-02-28T00:00:00",
          "2023-02-27T00:00:00",
          "2023-02-26T00:00:00",
          "2023-02-25T00:00:00",
          "2023-02-24T00:00:00",
          "2023-02-23T00:00:00",
          "2023-02-22T00:00:00",
          "2023-02-21T00:00:00",
          "2023-02-20T00:00:00",
          "2023-02-19T00:00:00",
          "2023-02-18T00:00:00",
          "2023-02-17T00:00:00",
          "2023-02-16T00:00:00",
          "2023-02-15T00:00:00",
          "2023-02-14T00:00:00",
          "2023-02-13T00:00:00",
          "2023-02-12T00:00:00",
          "2023-02-11T00:00:00",
          "2023-02-10T00:00:00",
          "2023-02-09T00:00:00",
          "2023-02-08T00:00:00",
          "2023-02-07T00:00:00",
          "2023-02-06T00:00:00",
          "2023-02-05T00:00:00",
          "2023-02-04T00:00:00",
          "2023-02-03T00:00:00",
          "2023-02-02T00:00:00",
          "2023-02-01T00:00:00",
          "2023-01-31T00:00:00",
          "2023-01-30T00:00:00",
          "2023-01-29T00:00:00",
          "2023-01-28T00:00:00",
          "2023-01-27T00:00:00",
          "2023-01-26T00:00:00",
          "2023-01-25T00:00:00",
          "2023-01-24T00:00:00",
          "2023-01-23T00:00:00",
          "2023-01-22T00:00:00",
          "2023-01-21T00:00:00",
          "2023-01-20T00:00:00",
          "2023-01-19T00:00:00",
          "2023-01-18T00:00:00"
         ],
         "xaxis": "x2",
         "y": [
          2.15,
          4.05,
          4.65,
          4.55,
          2.1,
          3.15,
          3.6,
          4.4,
          4.3,
          3.6,
          11.7,
          6.6,
          2.55,
          1.85,
          1.85,
          1.4,
          1.25,
          1.3,
          0.2,
          1.1,
          1.3,
          1.3,
          1.2,
          1.3,
          2.65,
          2.55,
          1.85,
          1.8,
          1.75,
          1.85,
          1.3,
          0.6,
          0.65,
          0.55,
          0.55,
          0.65,
          0.65,
          0.55,
          0.6,
          0.65,
          0.55,
          0.65,
          0.6,
          0.25
         ],
         "yaxis": "y2"
        }
       ],
       "layout": {
        "autosize": true,
        "template": {
         "data": {
          "bar": [
           {
            "error_x": {
             "color": "#2a3f5f"
            },
            "error_y": {
             "color": "#2a3f5f"
            },
            "marker": {
             "line": {
              "color": "#E5ECF6",
              "width": 0.5
             },
             "pattern": {
              "fillmode": "overlay",
              "size": 10,
              "solidity": 0.2
             }
            },
            "type": "bar"
           }
          ],
          "barpolar": [
           {
            "marker": {
             "line": {
              "color": "#E5ECF6",
              "width": 0.5
             },
             "pattern": {
              "fillmode": "overlay",
              "size": 10,
              "solidity": 0.2
             }
            },
            "type": "barpolar"
           }
          ],
          "carpet": [
           {
            "aaxis": {
             "endlinecolor": "#2a3f5f",
             "gridcolor": "white",
             "linecolor": "white",
             "minorgridcolor": "white",
             "startlinecolor": "#2a3f5f"
            },
            "baxis": {
             "endlinecolor": "#2a3f5f",
             "gridcolor": "white",
             "linecolor": "white",
             "minorgridcolor": "white",
             "startlinecolor": "#2a3f5f"
            },
            "type": "carpet"
           }
          ],
          "choropleth": [
           {
            "colorbar": {
             "outlinewidth": 0,
             "ticks": ""
            },
            "type": "choropleth"
           }
          ],
          "contour": [
           {
            "colorbar": {
             "outlinewidth": 0,
             "ticks": ""
            },
            "colorscale": [
             [
              0,
              "#0d0887"
             ],
             [
              0.1111111111111111,
              "#46039f"
             ],
             [
              0.2222222222222222,
              "#7201a8"
             ],
             [
              0.3333333333333333,
              "#9c179e"
             ],
             [
              0.4444444444444444,
              "#bd3786"
             ],
             [
              0.5555555555555556,
              "#d8576b"
             ],
             [
              0.6666666666666666,
              "#ed7953"
             ],
             [
              0.7777777777777778,
              "#fb9f3a"
             ],
             [
              0.8888888888888888,
              "#fdca26"
             ],
             [
              1,
              "#f0f921"
             ]
            ],
            "type": "contour"
           }
          ],
          "contourcarpet": [
           {
            "colorbar": {
             "outlinewidth": 0,
             "ticks": ""
            },
            "type": "contourcarpet"
           }
          ],
          "heatmap": [
           {
            "colorbar": {
             "outlinewidth": 0,
             "ticks": ""
            },
            "colorscale": [
             [
              0,
              "#0d0887"
             ],
             [
              0.1111111111111111,
              "#46039f"
             ],
             [
              0.2222222222222222,
              "#7201a8"
             ],
             [
              0.3333333333333333,
              "#9c179e"
             ],
             [
              0.4444444444444444,
              "#bd3786"
             ],
             [
              0.5555555555555556,
              "#d8576b"
             ],
             [
              0.6666666666666666,
              "#ed7953"
             ],
             [
              0.7777777777777778,
              "#fb9f3a"
             ],
             [
              0.8888888888888888,
              "#fdca26"
             ],
             [
              1,
              "#f0f921"
             ]
            ],
            "type": "heatmap"
           }
          ],
          "heatmapgl": [
           {
            "colorbar": {
             "outlinewidth": 0,
             "ticks": ""
            },
            "colorscale": [
             [
              0,
              "#0d0887"
             ],
             [
              0.1111111111111111,
              "#46039f"
             ],
             [
              0.2222222222222222,
              "#7201a8"
             ],
             [
              0.3333333333333333,
              "#9c179e"
             ],
             [
              0.4444444444444444,
              "#bd3786"
             ],
             [
              0.5555555555555556,
              "#d8576b"
             ],
             [
              0.6666666666666666,
              "#ed7953"
             ],
             [
              0.7777777777777778,
              "#fb9f3a"
             ],
             [
              0.8888888888888888,
              "#fdca26"
             ],
             [
              1,
              "#f0f921"
             ]
            ],
            "type": "heatmapgl"
           }
          ],
          "histogram": [
           {
            "marker": {
             "pattern": {
              "fillmode": "overlay",
              "size": 10,
              "solidity": 0.2
             }
            },
            "type": "histogram"
           }
          ],
          "histogram2d": [
           {
            "colorbar": {
             "outlinewidth": 0,
             "ticks": ""
            },
            "colorscale": [
             [
              0,
              "#0d0887"
             ],
             [
              0.1111111111111111,
              "#46039f"
             ],
             [
              0.2222222222222222,
              "#7201a8"
             ],
             [
              0.3333333333333333,
              "#9c179e"
             ],
             [
              0.4444444444444444,
              "#bd3786"
             ],
             [
              0.5555555555555556,
              "#d8576b"
             ],
             [
              0.6666666666666666,
              "#ed7953"
             ],
             [
              0.7777777777777778,
              "#fb9f3a"
             ],
             [
              0.8888888888888888,
              "#fdca26"
             ],
             [
              1,
              "#f0f921"
             ]
            ],
            "type": "histogram2d"
           }
          ],
          "histogram2dcontour": [
           {
            "colorbar": {
             "outlinewidth": 0,
             "ticks": ""
            },
            "colorscale": [
             [
              0,
              "#0d0887"
             ],
             [
              0.1111111111111111,
              "#46039f"
             ],
             [
              0.2222222222222222,
              "#7201a8"
             ],
             [
              0.3333333333333333,
              "#9c179e"
             ],
             [
              0.4444444444444444,
              "#bd3786"
             ],
             [
              0.5555555555555556,
              "#d8576b"
             ],
             [
              0.6666666666666666,
              "#ed7953"
             ],
             [
              0.7777777777777778,
              "#fb9f3a"
             ],
             [
              0.8888888888888888,
              "#fdca26"
             ],
             [
              1,
              "#f0f921"
             ]
            ],
            "type": "histogram2dcontour"
           }
          ],
          "mesh3d": [
           {
            "colorbar": {
             "outlinewidth": 0,
             "ticks": ""
            },
            "type": "mesh3d"
           }
          ],
          "parcoords": [
           {
            "line": {
             "colorbar": {
              "outlinewidth": 0,
              "ticks": ""
             }
            },
            "type": "parcoords"
           }
          ],
          "pie": [
           {
            "automargin": true,
            "type": "pie"
           }
          ],
          "scatter": [
           {
            "marker": {
             "colorbar": {
              "outlinewidth": 0,
              "ticks": ""
             }
            },
            "type": "scatter"
           }
          ],
          "scatter3d": [
           {
            "line": {
             "colorbar": {
              "outlinewidth": 0,
              "ticks": ""
             }
            },
            "marker": {
             "colorbar": {
              "outlinewidth": 0,
              "ticks": ""
             }
            },
            "type": "scatter3d"
           }
          ],
          "scattercarpet": [
           {
            "marker": {
             "colorbar": {
              "outlinewidth": 0,
              "ticks": ""
             }
            },
            "type": "scattercarpet"
           }
          ],
          "scattergeo": [
           {
            "marker": {
             "colorbar": {
              "outlinewidth": 0,
              "ticks": ""
             }
            },
            "type": "scattergeo"
           }
          ],
          "scattergl": [
           {
            "marker": {
             "colorbar": {
              "outlinewidth": 0,
              "ticks": ""
             }
            },
            "type": "scattergl"
           }
          ],
          "scattermapbox": [
           {
            "marker": {
             "colorbar": {
              "outlinewidth": 0,
              "ticks": ""
             }
            },
            "type": "scattermapbox"
           }
          ],
          "scatterpolar": [
           {
            "marker": {
             "colorbar": {
              "outlinewidth": 0,
              "ticks": ""
             }
            },
            "type": "scatterpolar"
           }
          ],
          "scatterpolargl": [
           {
            "marker": {
             "colorbar": {
              "outlinewidth": 0,
              "ticks": ""
             }
            },
            "type": "scatterpolargl"
           }
          ],
          "scatterternary": [
           {
            "marker": {
             "colorbar": {
              "outlinewidth": 0,
              "ticks": ""
             }
            },
            "type": "scatterternary"
           }
          ],
          "surface": [
           {
            "colorbar": {
             "outlinewidth": 0,
             "ticks": ""
            },
            "colorscale": [
             [
              0,
              "#0d0887"
             ],
             [
              0.1111111111111111,
              "#46039f"
             ],
             [
              0.2222222222222222,
              "#7201a8"
             ],
             [
              0.3333333333333333,
              "#9c179e"
             ],
             [
              0.4444444444444444,
              "#bd3786"
             ],
             [
              0.5555555555555556,
              "#d8576b"
             ],
             [
              0.6666666666666666,
              "#ed7953"
             ],
             [
              0.7777777777777778,
              "#fb9f3a"
             ],
             [
              0.8888888888888888,
              "#fdca26"
             ],
             [
              1,
              "#f0f921"
             ]
            ],
            "type": "surface"
           }
          ],
          "table": [
           {
            "cells": {
             "fill": {
              "color": "#EBF0F8"
             },
             "line": {
              "color": "white"
             }
            },
            "header": {
             "fill": {
              "color": "#C8D4E3"
             },
             "line": {
              "color": "white"
             }
            },
            "type": "table"
           }
          ]
         },
         "layout": {
          "annotationdefaults": {
           "arrowcolor": "#2a3f5f",
           "arrowhead": 0,
           "arrowwidth": 1
          },
          "autotypenumbers": "strict",
          "coloraxis": {
           "colorbar": {
            "outlinewidth": 0,
            "ticks": ""
           }
          },
          "colorscale": {
           "diverging": [
            [
             0,
             "#8e0152"
            ],
            [
             0.1,
             "#c51b7d"
            ],
            [
             0.2,
             "#de77ae"
            ],
            [
             0.3,
             "#f1b6da"
            ],
            [
             0.4,
             "#fde0ef"
            ],
            [
             0.5,
             "#f7f7f7"
            ],
            [
             0.6,
             "#e6f5d0"
            ],
            [
             0.7,
             "#b8e186"
            ],
            [
             0.8,
             "#7fbc41"
            ],
            [
             0.9,
             "#4d9221"
            ],
            [
             1,
             "#276419"
            ]
           ],
           "sequential": [
            [
             0,
             "#0d0887"
            ],
            [
             0.1111111111111111,
             "#46039f"
            ],
            [
             0.2222222222222222,
             "#7201a8"
            ],
            [
             0.3333333333333333,
             "#9c179e"
            ],
            [
             0.4444444444444444,
             "#bd3786"
            ],
            [
             0.5555555555555556,
             "#d8576b"
            ],
            [
             0.6666666666666666,
             "#ed7953"
            ],
            [
             0.7777777777777778,
             "#fb9f3a"
            ],
            [
             0.8888888888888888,
             "#fdca26"
            ],
            [
             1,
             "#f0f921"
            ]
           ],
           "sequentialminus": [
            [
             0,
             "#0d0887"
            ],
            [
             0.1111111111111111,
             "#46039f"
            ],
            [
             0.2222222222222222,
             "#7201a8"
            ],
            [
             0.3333333333333333,
             "#9c179e"
            ],
            [
             0.4444444444444444,
             "#bd3786"
            ],
            [
             0.5555555555555556,
             "#d8576b"
            ],
            [
             0.6666666666666666,
             "#ed7953"
            ],
            [
             0.7777777777777778,
             "#fb9f3a"
            ],
            [
             0.8888888888888888,
             "#fdca26"
            ],
            [
             1,
             "#f0f921"
            ]
           ]
          },
          "colorway": [
           "#636efa",
           "#EF553B",
           "#00cc96",
           "#ab63fa",
           "#FFA15A",
           "#19d3f3",
           "#FF6692",
           "#B6E880",
           "#FF97FF",
           "#FECB52"
          ],
          "font": {
           "color": "#2a3f5f"
          },
          "geo": {
           "bgcolor": "white",
           "lakecolor": "white",
           "landcolor": "#E5ECF6",
           "showlakes": true,
           "showland": true,
           "subunitcolor": "white"
          },
          "hoverlabel": {
           "align": "left"
          },
          "hovermode": "closest",
          "mapbox": {
           "style": "light"
          },
          "paper_bgcolor": "white",
          "plot_bgcolor": "#E5ECF6",
          "polar": {
           "angularaxis": {
            "gridcolor": "white",
            "linecolor": "white",
            "ticks": ""
           },
           "bgcolor": "#E5ECF6",
           "radialaxis": {
            "gridcolor": "white",
            "linecolor": "white",
            "ticks": ""
           }
          },
          "scene": {
           "xaxis": {
            "backgroundcolor": "#E5ECF6",
            "gridcolor": "white",
            "gridwidth": 2,
            "linecolor": "white",
            "showbackground": true,
            "ticks": "",
            "zerolinecolor": "white"
           },
           "yaxis": {
            "backgroundcolor": "#E5ECF6",
            "gridcolor": "white",
            "gridwidth": 2,
            "linecolor": "white",
            "showbackground": true,
            "ticks": "",
            "zerolinecolor": "white"
           },
           "zaxis": {
            "backgroundcolor": "#E5ECF6",
            "gridcolor": "white",
            "gridwidth": 2,
            "linecolor": "white",
            "showbackground": true,
            "ticks": "",
            "zerolinecolor": "white"
           }
          },
          "shapedefaults": {
           "line": {
            "color": "#2a3f5f"
           }
          },
          "ternary": {
           "aaxis": {
            "gridcolor": "white",
            "linecolor": "white",
            "ticks": ""
           },
           "baxis": {
            "gridcolor": "white",
            "linecolor": "white",
            "ticks": ""
           },
           "bgcolor": "#E5ECF6",
           "caxis": {
            "gridcolor": "white",
            "linecolor": "white",
            "ticks": ""
           }
          },
          "title": {
           "x": 0.05
          },
          "xaxis": {
           "automargin": true,
           "gridcolor": "white",
           "linecolor": "white",
           "ticks": "",
           "title": {
            "standoff": 15
           },
           "zerolinecolor": "white",
           "zerolinewidth": 2
          },
          "yaxis": {
           "automargin": true,
           "gridcolor": "white",
           "linecolor": "white",
           "ticks": "",
           "title": {
            "standoff": 15
           },
           "zerolinecolor": "white",
           "zerolinewidth": 2
          }
         }
        },
        "xaxis": {
         "anchor": "y",
         "autorange": true,
         "domain": [
          0,
          1
         ],
         "matches": "x",
         "range": [
          "2023-01-15 06:56:38.2759",
          "2023-03-04 17:03:21.7241"
         ],
         "showticklabels": false,
         "type": "date"
        },
        "xaxis2": {
         "anchor": "y2",
         "autorange": true,
         "domain": [
          0,
          1
         ],
         "matches": "x",
         "range": [
          "2023-01-15 06:56:38.2759",
          "2023-03-04 17:03:21.7241"
         ],
         "showticklabels": true,
         "type": "date"
        },
        "yaxis": {
         "anchor": "x",
         "autorange": true,
         "domain": [
          0.525,
          1
         ],
         "range": [
          93.44444444444444,
          324.55555555555554
         ],
         "type": "linear"
        },
        "yaxis2": {
         "anchor": "x2",
         "autorange": true,
         "domain": [
          0,
          0.475
         ],
         "range": [
          -0.9027777777777781,
          21.15277777777778
         ],
         "type": "linear"
        }
       }
      },
      "image/png": "[encoded data removed]",
      "text/html": [
       "<div>                            <div id=\"4e6c1e7e-84d4-4f45-a605-5c7234dbd2c2\" class=\"plotly-graph-div\" style=\"height:600px; width:100%;\"></div>            <script type=\"text/javascript\">                require([\"plotly\"], function(Plotly) {                    window.PLOTLYENV=window.PLOTLYENV || {};                                    if (document.getElementById(\"4e6c1e7e-84d4-4f45-a605-5c7234dbd2c2\")) {                    Plotly.newPlot(                        \"4e6c1e7e-84d4-4f45-a605-5c7234dbd2c2\",                        [{\"mode\":\"markers\",\"name\":\"Mean BG\",\"x\":[\"2023-01-18T00:00:00\",\"2023-01-19T00:00:00\",\"2023-01-20T00:00:00\",\"2023-01-21T00:00:00\",\"2023-01-22T00:00:00\",\"2023-01-23T00:00:00\",\"2023-01-24T00:00:00\",\"2023-01-25T00:00:00\",\"2023-01-26T00:00:00\",\"2023-01-27T00:00:00\",\"2023-01-28T00:00:00\",\"2023-01-29T00:00:00\",\"2023-01-30T00:00:00\",\"2023-01-31T00:00:00\",\"2023-02-01T00:00:00\",\"2023-02-02T00:00:00\",\"2023-02-03T00:00:00\",\"2023-02-04T00:00:00\",\"2023-02-05T00:00:00\",\"2023-02-06T00:00:00\",\"2023-02-07T00:00:00\",\"2023-02-08T00:00:00\",\"2023-02-09T00:00:00\",\"2023-02-10T00:00:00\",\"2023-02-11T00:00:00\",\"2023-02-12T00:00:00\",\"2023-02-13T00:00:00\",\"2023-02-14T00:00:00\",\"2023-02-15T00:00:00\",\"2023-02-16T00:00:00\",\"2023-02-17T00:00:00\",\"2023-02-18T00:00:00\",\"2023-02-19T00:00:00\",\"2023-02-20T00:00:00\",\"2023-02-21T00:00:00\",\"2023-02-22T00:00:00\",\"2023-02-23T00:00:00\",\"2023-02-24T00:00:00\",\"2023-02-25T00:00:00\",\"2023-02-26T00:00:00\",\"2023-02-27T00:00:00\",\"2023-02-28T00:00:00\",\"2023-03-01T00:00:00\",\"2023-03-02T00:00:00\"],\"y\":[233.28440366972478,216.30555555555554,221.79861111111111,204.1769547325103,214.82986111111111,238.62152777777777,237.58718861209965,189.90972222222223,175.10526315789474,217.6086956521739,180.1157894736842,186.0045045045045,244.25641025641025,228.64084507042253,208.70486111111111,226.22101449275362,216.90972222222223,232.90972222222223,198.89928057553956,161.78445229681978,175.44405594405595,153.1813953488372,160.94097222222223,187.08070175438596,196.72645739910314,224.5,240.23321554770317,197.40569395017795,265.4528985507246,212.38888888888889,258.3645833333333,241.8582375478927,155.03900709219857,189.47810218978103,188.2112676056338,173.58214285714286,161.50694444444446,169.63888888888889,165.70848708487085,147.13120567375887,169.16783216783216,172.63953488372093,147.8368794326241,136.0],\"type\":\"scatter\",\"xaxis\":\"x\",\"yaxis\":\"y\"},{\"mode\":\"lines\",\"name\":\"75th\",\"x\":[\"2023-01-18T00:00:00\",\"2023-01-19T00:00:00\",\"2023-01-20T00:00:00\",\"2023-01-21T00:00:00\",\"2023-01-22T00:00:00\",\"2023-01-23T00:00:00\",\"2023-01-24T00:00:00\",\"2023-01-25T00:00:00\",\"2023-01-26T00:00:00\",\"2023-01-27T00:00:00\",\"2023-01-28T00:00:00\",\"2023-01-29T00:00:00\",\"2023-01-30T00:00:00\",\"2023-01-31T00:00:00\",\"2023-02-01T00:00:00\",\"2023-02-02T00:00:00\",\"2023-02-03T00:00:00\",\"2023-02-04T00:00:00\",\"2023-02-05T00:00:00\",\"2023-02-06T00:00:00\",\"2023-02-07T00:00:00\",\"2023-02-08T00:00:00\",\"2023-02-09T00:00:00\",\"2023-02-10T00:00:00\",\"2023-02-11T00:00:00\",\"2023-02-12T00:00:00\",\"2023-02-13T00:00:00\",\"2023-02-14T00:00:00\",\"2023-02-15T00:00:00\",\"2023-02-16T00:00:00\",\"2023-02-17T00:00:00\",\"2023-02-18T00:00:00\",\"2023-02-19T00:00:00\",\"2023-02-20T00:00:00\",\"2023-02-21T00:00:00\",\"2023-02-22T00:00:00\",\"2023-02-23T00:00:00\",\"2023-02-24T00:00:00\",\"2023-02-25T00:00:00\",\"2023-02-26T00:00:00\",\"2023-02-27T00:00:00\",\"2023-02-28T00:00:00\",\"2023-03-01T00:00:00\",\"2023-03-02T00:00:00\"],\"y\":[256.0,267.0,287.5,250.5,274.0,277.0,273.0,215.5,208.0,246.0,214.0,218.5,313.0,266.0,238.25,253.0,251.25,270.0,228.0,178.0,225.0,193.0,187.0,229.0,236.0,290.5,287.0,221.0,290.5,253.25,287.5,292.0,177.0,254.0,228.5,224.0,205.25,212.0,197.5,168.75,210.75,203.75,180.0,154.0],\"type\":\"scatter\",\"xaxis\":\"x\",\"yaxis\":\"y\"},{\"mode\":\"lines\",\"name\":\"25th\",\"x\":[\"2023-01-18T00:00:00\",\"2023-01-19T00:00:00\",\"2023-01-20T00:00:00\",\"2023-01-21T00:00:00\",\"2023-01-22T00:00:00\",\"2023-01-23T00:00:00\",\"2023-01-24T00:00:00\",\"2023-01-25T00:00:00\",\"2023-01-26T00:00:00\",\"2023-01-27T00:00:00\",\"2023-01-28T00:00:00\",\"2023-01-29T00:00:00\",\"2023-01-30T00:00:00\",\"2023-01-31T00:00:00\",\"2023-02-01T00:00:00\",\"2023-02-02T00:00:00\",\"2023-02-03T00:00:00\",\"2023-02-04T00:00:00\",\"2023-02-05T00:00:00\",\"2023-02-06T00:00:00\",\"2023-02-07T00:00:00\",\"2023-02-08T00:00:00\",\"2023-02-09T00:00:00\",\"2023-02-10T00:00:00\",\"2023-02-11T00:00:00\",\"2023-02-12T00:00:00\",\"2023-02-13T00:00:00\",\"2023-02-14T00:00:00\",\"2023-02-15T00:00:00\",\"2023-02-16T00:00:00\",\"2023-02-17T00:00:00\",\"2023-02-18T00:00:00\",\"2023-02-19T00:00:00\",\"2023-02-20T00:00:00\",\"2023-02-21T00:00:00\",\"2023-02-22T00:00:00\",\"2023-02-23T00:00:00\",\"2023-02-24T00:00:00\",\"2023-02-25T00:00:00\",\"2023-02-26T00:00:00\",\"2023-02-27T00:00:00\",\"2023-02-28T00:00:00\",\"2023-03-01T00:00:00\",\"2023-03-02T00:00:00\"],\"y\":[221.0,161.0,160.75,166.5,166.0,183.75,206.0,140.0,138.0,191.75,153.0,151.25,182.0,196.0,174.75,192.75,184.0,188.75,168.0,124.0,134.0,107.5,135.0,145.0,158.0,179.0,194.5,169.0,233.75,177.5,230.75,208.0,112.25,129.0,143.0,138.0,120.75,128.0,139.0,105.0,135.0,141.25,114.0,115.0],\"type\":\"scatter\",\"xaxis\":\"x\",\"yaxis\":\"y\"},{\"mode\":\"lines\",\"name\":\"Total\",\"x\":[\"2023-03-02T00:00:00\",\"2023-03-01T00:00:00\",\"2023-02-28T00:00:00\",\"2023-02-27T00:00:00\",\"2023-02-26T00:00:00\",\"2023-02-25T00:00:00\",\"2023-02-24T00:00:00\",\"2023-02-23T00:00:00\",\"2023-02-22T00:00:00\",\"2023-02-21T00:00:00\",\"2023-02-20T00:00:00\",\"2023-02-19T00:00:00\",\"2023-02-18T00:00:00\",\"2023-02-17T00:00:00\",\"2023-02-16T00:00:00\",\"2023-02-15T00:00:00\",\"2023-02-14T00:00:00\",\"2023-02-13T00:00:00\",\"2023-02-12T00:00:00\",\"2023-02-11T00:00:00\",\"2023-02-10T00:00:00\",\"2023-02-09T00:00:00\",\"2023-02-08T00:00:00\",\"2023-02-07T00:00:00\",\"2023-02-06T00:00:00\",\"2023-02-05T00:00:00\",\"2023-02-04T00:00:00\",\"2023-02-03T00:00:00\",\"2023-02-02T00:00:00\",\"2023-02-01T00:00:00\",\"2023-01-31T00:00:00\",\"2023-01-30T00:00:00\",\"2023-01-29T00:00:00\",\"2023-01-28T00:00:00\",\"2023-01-27T00:00:00\",\"2023-01-26T00:00:00\",\"2023-01-25T00:00:00\",\"2023-01-24T00:00:00\",\"2023-01-23T00:00:00\",\"2023-01-22T00:00:00\",\"2023-01-21T00:00:00\",\"2023-01-20T00:00:00\",\"2023-01-19T00:00:00\",\"2023-01-18T00:00:00\"],\"y\":[5.65,9.0,13.15,20.05,15.15,12.85,14.35,9.8,10.15,11.3,15.85,13.45,11.2,8.5,8.45,8.9,9.05,6.95,0.6,6.6,7.15,4.65,4.45,9.2,8.25,11.8,9.9,8.75,6.85,7.550000000000001,7.85,7.75,5.800000000000001,5.55,4.75,3.95,4.800000000000001,5.0,5.699999999999998,5.75,5.1,6.250000000000001,4.85,2.1500000000000004],\"type\":\"scatter\",\"xaxis\":\"x2\",\"yaxis\":\"y2\"},{\"mode\":\"lines\",\"name\":\"Basal\",\"x\":[\"2023-03-02T00:00:00\",\"2023-03-01T00:00:00\",\"2023-02-28T00:00:00\",\"2023-02-27T00:00:00\",\"2023-02-26T00:00:00\",\"2023-02-25T00:00:00\",\"2023-02-24T00:00:00\",\"2023-02-23T00:00:00\",\"2023-02-22T00:00:00\",\"2023-02-21T00:00:00\",\"2023-02-20T00:00:00\",\"2023-02-19T00:00:00\",\"2023-02-18T00:00:00\",\"2023-02-17T00:00:00\",\"2023-02-16T00:00:00\",\"2023-02-15T00:00:00\",\"2023-02-14T00:00:00\",\"2023-02-13T00:00:00\",\"2023-02-12T00:00:00\",\"2023-02-11T00:00:00\",\"2023-02-10T00:00:00\",\"2023-02-09T00:00:00\",\"2023-02-08T00:00:00\",\"2023-02-07T00:00:00\",\"2023-02-06T00:00:00\",\"2023-02-05T00:00:00\",\"2023-02-04T00:00:00\",\"2023-02-03T00:00:00\",\"2023-02-02T00:00:00\",\"2023-02-01T00:00:00\",\"2023-01-31T00:00:00\",\"2023-01-30T00:00:00\",\"2023-01-29T00:00:00\",\"2023-01-28T00:00:00\",\"2023-01-27T00:00:00\",\"2023-01-26T00:00:00\",\"2023-01-25T00:00:00\",\"2023-01-24T00:00:00\",\"2023-01-23T00:00:00\",\"2023-01-22T00:00:00\",\"2023-01-21T00:00:00\",\"2023-01-20T00:00:00\",\"2023-01-19T00:00:00\",\"2023-01-18T00:00:00\"],\"y\":[2.15,4.05,4.65,4.55,2.1,3.15,3.6,4.4,4.3,3.6,11.7,6.6,2.55,1.85,1.85,1.4,1.25,1.3,0.2,1.1,1.3,1.3,1.2,1.3,2.65,2.55,1.85,1.8,1.75,1.85,1.3,0.6,0.65,0.55,0.55,0.65,0.65,0.55,0.6,0.65,0.55,0.65,0.6,0.25],\"type\":\"scatter\",\"xaxis\":\"x2\",\"yaxis\":\"y2\"}],                        {\"template\":{\"data\":{\"bar\":[{\"error_x\":{\"color\":\"#2a3f5f\"},\"error_y\":{\"color\":\"#2a3f5f\"},\"marker\":{\"line\":{\"color\":\"#E5ECF6\",\"width\":0.5},\"pattern\":{\"fillmode\":\"overlay\",\"size\":10,\"solidity\":0.2}},\"type\":\"bar\"}],\"barpolar\":[{\"marker\":{\"line\":{\"color\":\"#E5ECF6\",\"width\":0.5},\"pattern\":{\"fillmode\":\"overlay\",\"size\":10,\"solidity\":0.2}},\"type\":\"barpolar\"}],\"carpet\":[{\"aaxis\":{\"endlinecolor\":\"#2a3f5f\",\"gridcolor\":\"white\",\"linecolor\":\"white\",\"minorgridcolor\":\"white\",\"startlinecolor\":\"#2a3f5f\"},\"baxis\":{\"endlinecolor\":\"#2a3f5f\",\"gridcolor\":\"white\",\"linecolor\":\"white\",\"minorgridcolor\":\"white\",\"startlinecolor\":\"#2a3f5f\"},\"type\":\"carpet\"}],\"choropleth\":[{\"colorbar\":{\"outlinewidth\":0,\"ticks\":\"\"},\"type\":\"choropleth\"}],\"contour\":[{\"colorbar\":{\"outlinewidth\":0,\"ticks\":\"\"},\"colorscale\":[[0.0,\"#0d0887\"],[0.1111111111111111,\"#46039f\"],[0.2222222222222222,\"#7201a8\"],[0.3333333333333333,\"#9c179e\"],[0.4444444444444444,\"#bd3786\"],[0.5555555555555556,\"#d8576b\"],[0.6666666666666666,\"#ed7953\"],[0.7777777777777778,\"#fb9f3a\"],[0.8888888888888888,\"#fdca26\"],[1.0,\"#f0f921\"]],\"type\":\"contour\"}],\"contourcarpet\":[{\"colorbar\":{\"outlinewidth\":0,\"ticks\":\"\"},\"type\":\"contourcarpet\"}],\"heatmap\":[{\"colorbar\":{\"outlinewidth\":0,\"ticks\":\"\"},\"colorscale\":[[0.0,\"#0d0887\"],[0.1111111111111111,\"#46039f\"],[0.2222222222222222,\"#7201a8\"],[0.3333333333333333,\"#9c179e\"],[0.4444444444444444,\"#bd3786\"],[0.5555555555555556,\"#d8576b\"],[0.6666666666666666,\"#ed7953\"],[0.7777777777777778,\"#fb9f3a\"],[0.8888888888888888,\"#fdca26\"],[1.0,\"#f0f921\"]],\"type\":\"heatmap\"}],\"heatmapgl\":[{\"colorbar\":{\"outlinewidth\":0,\"ticks\":\"\"},\"colorscale\":[[0.0,\"#0d0887\"],[0.1111111111111111,\"#46039f\"],[0.2222222222222222,\"#7201a8\"],[0.3333333333333333,\"#9c179e\"],[0.4444444444444444,\"#bd3786\"],[0.5555555555555556,\"#d8576b\"],[0.6666666666666666,\"#ed7953\"],[0.7777777777777778,\"#fb9f3a\"],[0.8888888888888888,\"#fdca26\"],[1.0,\"#f0f921\"]],\"type\":\"heatmapgl\"}],\"histogram\":[{\"marker\":{\"pattern\":{\"fillmode\":\"overlay\",\"size\":10,\"solidity\":0.2}},\"type\":\"histogram\"}],\"histogram2d\":[{\"colorbar\":{\"outlinewidth\":0,\"ticks\":\"\"},\"colorscale\":[[0.0,\"#0d0887\"],[0.1111111111111111,\"#46039f\"],[0.2222222222222222,\"#7201a8\"],[0.3333333333333333,\"#9c179e\"],[0.4444444444444444,\"#bd3786\"],[0.5555555555555556,\"#d8576b\"],[0.6666666666666666,\"#ed7953\"],[0.7777777777777778,\"#fb9f3a\"],[0.8888888888888888,\"#fdca26\"],[1.0,\"#f0f921\"]],\"type\":\"histogram2d\"}],\"histogram2dcontour\":[{\"colorbar\":{\"outlinewidth\":0,\"ticks\":\"\"},\"colorscale\":[[0.0,\"#0d0887\"],[0.1111111111111111,\"#46039f\"],[0.2222222222222222,\"#7201a8\"],[0.3333333333333333,\"#9c179e\"],[0.4444444444444444,\"#bd3786\"],[0.5555555555555556,\"#d8576b\"],[0.6666666666666666,\"#ed7953\"],[0.7777777777777778,\"#fb9f3a\"],[0.8888888888888888,\"#fdca26\"],[1.0,\"#f0f921\"]],\"type\":\"histogram2dcontour\"}],\"mesh3d\":[{\"colorbar\":{\"outlinewidth\":0,\"ticks\":\"\"},\"type\":\"mesh3d\"}],\"parcoords\":[{\"line\":{\"colorbar\":{\"outlinewidth\":0,\"ticks\":\"\"}},\"type\":\"parcoords\"}],\"pie\":[{\"automargin\":true,\"type\":\"pie\"}],\"scatter\":[{\"marker\":{\"colorbar\":{\"outlinewidth\":0,\"ticks\":\"\"}},\"type\":\"scatter\"}],\"scatter3d\":[{\"line\":{\"colorbar\":{\"outlinewidth\":0,\"ticks\":\"\"}},\"marker\":{\"colorbar\":{\"outlinewidth\":0,\"ticks\":\"\"}},\"type\":\"scatter3d\"}],\"scattercarpet\":[{\"marker\":{\"colorbar\":{\"outlinewidth\":0,\"ticks\":\"\"}},\"type\":\"scattercarpet\"}],\"scattergeo\":[{\"marker\":{\"colorbar\":{\"outlinewidth\":0,\"ticks\":\"\"}},\"type\":\"scattergeo\"}],\"scattergl\":[{\"marker\":{\"colorbar\":{\"outlinewidth\":0,\"ticks\":\"\"}},\"type\":\"scattergl\"}],\"scattermapbox\":[{\"marker\":{\"colorbar\":{\"outlinewidth\":0,\"ticks\":\"\"}},\"type\":\"scattermapbox\"}],\"scatterpolar\":[{\"marker\":{\"colorbar\":{\"outlinewidth\":0,\"ticks\":\"\"}},\"type\":\"scatterpolar\"}],\"scatterpolargl\":[{\"marker\":{\"colorbar\":{\"outlinewidth\":0,\"ticks\":\"\"}},\"type\":\"scatterpolargl\"}],\"scatterternary\":[{\"marker\":{\"colorbar\":{\"outlinewidth\":0,\"ticks\":\"\"}},\"type\":\"scatterternary\"}],\"surface\":[{\"colorbar\":{\"outlinewidth\":0,\"ticks\":\"\"},\"colorscale\":[[0.0,\"#0d0887\"],[0.1111111111111111,\"#46039f\"],[0.2222222222222222,\"#7201a8\"],[0.3333333333333333,\"#9c179e\"],[0.4444444444444444,\"#bd3786\"],[0.5555555555555556,\"#d8576b\"],[0.6666666666666666,\"#ed7953\"],[0.7777777777777778,\"#fb9f3a\"],[0.8888888888888888,\"#fdca26\"],[1.0,\"#f0f921\"]],\"type\":\"surface\"}],\"table\":[{\"cells\":{\"fill\":{\"color\":\"#EBF0F8\"},\"line\":{\"color\":\"white\"}},\"header\":{\"fill\":{\"color\":\"#C8D4E3\"},\"line\":{\"color\":\"white\"}},\"type\":\"table\"}]},\"layout\":{\"annotationdefaults\":{\"arrowcolor\":\"#2a3f5f\",\"arrowhead\":0,\"arrowwidth\":1},\"autotypenumbers\":\"strict\",\"coloraxis\":{\"colorbar\":{\"outlinewidth\":0,\"ticks\":\"\"}},\"colorscale\":{\"diverging\":[[0,\"#8e0152\"],[0.1,\"#c51b7d\"],[0.2,\"#de77ae\"],[0.3,\"#f1b6da\"],[0.4,\"#fde0ef\"],[0.5,\"#f7f7f7\"],[0.6,\"#e6f5d0\"],[0.7,\"#b8e186\"],[0.8,\"#7fbc41\"],[0.9,\"#4d9221\"],[1,\"#276419\"]],\"sequential\":[[0.0,\"#0d0887\"],[0.1111111111111111,\"#46039f\"],[0.2222222222222222,\"#7201a8\"],[0.3333333333333333,\"#9c179e\"],[0.4444444444444444,\"#bd3786\"],[0.5555555555555556,\"#d8576b\"],[0.6666666666666666,\"#ed7953\"],[0.7777777777777778,\"#fb9f3a\"],[0.8888888888888888,\"#fdca26\"],[1.0,\"#f0f921\"]],\"sequentialminus\":[[0.0,\"#0d0887\"],[0.1111111111111111,\"#46039f\"],[0.2222222222222222,\"#7201a8\"],[0.3333333333333333,\"#9c179e\"],[0.4444444444444444,\"#bd3786\"],[0.5555555555555556,\"#d8576b\"],[0.6666666666666666,\"#ed7953\"],[0.7777777777777778,\"#fb9f3a\"],[0.8888888888888888,\"#fdca26\"],[1.0,\"#f0f921\"]]},\"colorway\":[\"#636efa\",\"#EF553B\",\"#00cc96\",\"#ab63fa\",\"#FFA15A\",\"#19d3f3\",\"#FF6692\",\"#B6E880\",\"#FF97FF\",\"#FECB52\"],\"font\":{\"color\":\"#2a3f5f\"},\"geo\":{\"bgcolor\":\"white\",\"lakecolor\":\"white\",\"landcolor\":\"#E5ECF6\",\"showlakes\":true,\"showland\":true,\"subunitcolor\":\"white\"},\"hoverlabel\":{\"align\":\"left\"},\"hovermode\":\"closest\",\"mapbox\":{\"style\":\"light\"},\"paper_bgcolor\":\"white\",\"plot_bgcolor\":\"#E5ECF6\",\"polar\":{\"angularaxis\":{\"gridcolor\":\"white\",\"linecolor\":\"white\",\"ticks\":\"\"},\"bgcolor\":\"#E5ECF6\",\"radialaxis\":{\"gridcolor\":\"white\",\"linecolor\":\"white\",\"ticks\":\"\"}},\"scene\":{\"xaxis\":{\"backgroundcolor\":\"#E5ECF6\",\"gridcolor\":\"white\",\"gridwidth\":2,\"linecolor\":\"white\",\"showbackground\":true,\"ticks\":\"\",\"zerolinecolor\":\"white\"},\"yaxis\":{\"backgroundcolor\":\"#E5ECF6\",\"gridcolor\":\"white\",\"gridwidth\":2,\"linecolor\":\"white\",\"showbackground\":true,\"ticks\":\"\",\"zerolinecolor\":\"white\"},\"zaxis\":{\"backgroundcolor\":\"#E5ECF6\",\"gridcolor\":\"white\",\"gridwidth\":2,\"linecolor\":\"white\",\"showbackground\":true,\"ticks\":\"\",\"zerolinecolor\":\"white\"}},\"shapedefaults\":{\"line\":{\"color\":\"#2a3f5f\"}},\"ternary\":{\"aaxis\":{\"gridcolor\":\"white\",\"linecolor\":\"white\",\"ticks\":\"\"},\"baxis\":{\"gridcolor\":\"white\",\"linecolor\":\"white\",\"ticks\":\"\"},\"bgcolor\":\"#E5ECF6\",\"caxis\":{\"gridcolor\":\"white\",\"linecolor\":\"white\",\"ticks\":\"\"}},\"title\":{\"x\":0.05},\"xaxis\":{\"automargin\":true,\"gridcolor\":\"white\",\"linecolor\":\"white\",\"ticks\":\"\",\"title\":{\"standoff\":15},\"zerolinecolor\":\"white\",\"zerolinewidth\":2},\"yaxis\":{\"automargin\":true,\"gridcolor\":\"white\",\"linecolor\":\"white\",\"ticks\":\"\",\"title\":{\"standoff\":15},\"zerolinecolor\":\"white\",\"zerolinewidth\":2}}},\"xaxis\":{\"anchor\":\"y\",\"domain\":[0.0,1.0],\"showticklabels\":false,\"matches\":\"x\"},\"yaxis\":{\"anchor\":\"x\",\"domain\":[0.525,1.0]},\"xaxis2\":{\"anchor\":\"y2\",\"domain\":[0.0,1.0],\"showticklabels\":true,\"matches\":\"x\"},\"yaxis2\":{\"anchor\":\"x2\",\"domain\":[0.0,0.475]},\"height\":600},                        {\"responsive\": true}                    ).then(function(){\n",
       "                            \n",
       "var gd = document.getElementById('4e6c1e7e-84d4-4f45-a605-5c7234dbd2c2');\n",
       "var x = new MutationObserver(function (mutations, observer) {{\n",
       "        var display = window.getComputedStyle(gd).display;\n",
       "        if (!display || display === 'none') {{\n",
       "            console.log([gd, 'removed!']);\n",
       "            Plotly.purge(gd);\n",
       "            observer.disconnect();\n",
       "        }}\n",
       "}});\n",
       "\n",
       "// Listen for the removal of the full notebook cells\n",
       "var notebookContainer = gd.closest('#notebook-container');\n",
       "if (notebookContainer) {{\n",
       "    x.observe(notebookContainer, {childList: true});\n",
       "}}\n",
       "\n",
       "// Listen for the clearing of the current output cell\n",
       "var outputEl = gd.closest('.output');\n",
       "if (outputEl) {{\n",
       "    x.observe(outputEl, {childList: true});\n",
       "}}\n",
       "\n",
       "                        })                };                });            </script>        </div>"
      ]
     },
     "metadata": {},
     "output_type": "display_data"
    }
   ],
   "source": [
    "import plotly.graph_objects as go\n",
    "import plotly.express as px\n",
    "from plotly.subplots import make_subplots\n",
    "\n",
    "\n",
    "fig = make_subplots(rows=2, cols=1, vertical_spacing = 0.05)\n",
    "\n",
    "fig.add_trace(go.Scatter(\n",
    "    name=\"Mean BG\",\n",
    "    mode=\"markers\", x=df_cgm_summary[\"time\"], y=df_cgm_summary[\"mean\"]\n",
    "), row=1, col=1)\n",
    "\n",
    "fig.add_trace(go.Scatter(\n",
    "    name=\"75th\",\n",
    "    mode=\"lines\", x=df_cgm_summary[\"time\"], y=df_cgm_summary[\"75%\"],\n",
    "), row=1, col=1)\n",
    "\n",
    "fig.add_trace(go.Scatter(\n",
    "    name=\"25th\",\n",
    "    mode=\"lines\", x=df_cgm_summary[\"time\"], y=df_cgm_summary[\"25%\"],\n",
    "), row=1, col=1)\n",
    "\n",
    "fig.add_trace(go.Scatter(\n",
    "    name=\"Total\",\n",
    "    mode=\"lines\", x=df_insulin[\"time\"], y=df_insulin[\"total_insulin\"],\n",
    "), row=2, col=1)\n",
    "\n",
    "fig.add_trace(go.Scatter(\n",
    "    name=\"Basal\",\n",
    "    mode=\"lines\", x=df_insulin[\"time\"], y=df_insulin[\"total_basal\"],\n",
    "), row=2, col=1)\n",
    "\n",
    "fig.update_layout(height=600)\n",
    "\n",
    "fig.update_xaxes(showticklabels=False) # hide all the xticks\n",
    "fig.update_xaxes(showticklabels=True, row=2, col=1)\n",
    "\n",
    "fig.update_xaxes(matches='x')\n",
    "\n",
    "fig.show()"
   ]
  },
  {
   "cell_type": "markdown",
   "id": "386225c9-e0e0-4b57-a3d3-3d7595212c24",
   "metadata": {},
   "source": [
    "## Back to seaborn\n",
    "\n",
    "I'm sure that I could do amazing things with plotly, but I'm not really there yet. Yes, it's nice to have interactive plots, but I'm not seeing anything particularly useful yet. "
   ]
  },
  {
   "cell_type": "code",
   "execution_count": 8,
   "id": "d97b5c3a-3d9d-42d6-982d-62bcad4d2a8a",
   "metadata": {},
   "outputs": [
    {
     "data": {
      "application/vnd.jupyter.widget-view+json": {
       "model_id": "b1fb0f8b7a0e4c1081596bb6357b159b",
       "version_major": 2,
       "version_minor": 0
      },
      "image/png": "[encoded data removed]",
      "text/html": [
       "\n",
       "            <div style=\"display: inline-block;\">\n",
       "                <div class=\"jupyter-widgets widget-label\" style=\"text-align: center;\">\n",
       "                    Figure\n",
       "                </div>\n",
       "                <img src='data:image/png;base64,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' width=800.0/>\n",
       "            </div>\n",
       "        "
      ],
      "text/plain": [
       "Canvas(toolbar=Toolbar(toolitems=[('Home', 'Reset original view', 'home', 'home'), ('Back', 'Back to previous …"
      ]
     },
     "metadata": {},
     "output_type": "display_data"
    }
   ],
   "source": [
    "import seaborn as sns\n",
    "from matplotlib.patches import Rectangle\n",
    "\n",
    "fig, ax = plt.subplots(2,1,figsize=(8, 7), sharex=True)\n",
    "\n",
    "# Plot the insulin\n",
    "sns.set_color_codes(\"pastel\")\n",
    "sns.barplot(x=\"time\", y=\"total_insulin\", data=df_insulin,\n",
    "            label=\"Bolus/Correction\", color=\"b\", ax=ax[0])\n",
    "\n",
    "# Plot the basal \n",
    "sns.set_color_codes(\"muted\")\n",
    "sns.barplot(x=\"yearday\", y=\"total_basal\", data=df_insulin,\n",
    "            label=\"Basal\", color=\"b\", ax=ax[0])\n",
    "\n",
    "# Add a legend and informative axis label\n",
    "ax[0].legend(ncol=1, frameon=True)\n",
    "sns.despine(left=True, bottom=True,ax=ax[0])\n",
    "\n",
    "# BOX PLOTS\n",
    "sns.boxplot(x=\"yearday\", y=\"bg\",data=df_cgm,\n",
    "            whis=[0, 100], width=.7, ax=ax[1])\n",
    "\n",
    "# Add rectangle\n",
    "xmin = ax[1].get_xticks()[0]\n",
    "xmax = ax[1].get_xticks()[-1]\n",
    "goal_range = Rectangle((xmin, 70),xmax-xmin, 180-70, color ='gray', alpha=0.25,zorder=0)\n",
    "ax[1].add_patch(goal_range)\n",
    "\n",
    "ax[1].xaxis.grid(True)\n",
    "sns.despine(trim=True, left=True)\n",
    "\n",
    "ax[0].set_xlabel(\"\")\n",
    "ax[1].set_xlabel(\"Day\")\n",
    "ax[1].tick_params(rotation=50)\n",
    "ax[1].invert_xaxis()\n",
    "\n",
    "\n",
    "fig.tight_layout()"
   ]
  }
 ],
 "metadata": {
  "kernelspec": {
   "display_name": "Python 3 (ipykernel)",
   "language": "python",
   "name": "python3"
  },
  "language_info": {
   "codemirror_mode": {
    "name": "ipython",
    "version": 3
   },
   "file_extension": ".py",
   "mimetype": "text/x-python",
   "name": "python",
   "nbconvert_exporter": "python",
   "pygments_lexer": "ipython3",
   "version": "3.10.2"
  }
 },
 "nbformat": 4,
 "nbformat_minor": 5
}
