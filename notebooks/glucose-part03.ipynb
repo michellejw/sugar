{
 "cells": [
  {
   "cell_type": "markdown",
   "id": "3b7d9813-563a-43c1-89c8-8373f72578cb",
   "metadata": {},
   "source": [
    "# Planning next steps\n",
    "\n",
    "I'm still not 100% sure where this will end up but I'm really interested in starting off by visualizing the data in as many ways as I can. I was thinking through this process and made some notes on possible visualizations, and also just lists of dependent and independent variables I could look at. "
   ]
  },
  {
   "cell_type": "code",
   "execution_count": null,
   "id": "93e02f9a-23fe-44c9-82c0-5ad6a76af1d7",
   "metadata": {},
   "outputs": [],
   "source": []
  }
 ],
 "metadata": {
  "kernelspec": {
   "display_name": "Python 3 (ipykernel)",
   "language": "python",
   "name": "python3"
  },
  "language_info": {
   "codemirror_mode": {
    "name": "ipython",
    "version": 3
   },
   "file_extension": ".py",
   "mimetype": "text/x-python",
   "name": "python",
   "nbconvert_exporter": "python",
   "pygments_lexer": "ipython3",
   "version": "3.10.2"
  }
 },
 "nbformat": 4,
 "nbformat_minor": 5
}
