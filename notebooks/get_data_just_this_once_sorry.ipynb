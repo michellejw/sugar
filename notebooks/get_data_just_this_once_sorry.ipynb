{
 "cells": [
  {
   "cell_type": "markdown",
   "id": "381ab12e-c487-4f9e-8774-f87942cc5906",
   "metadata": {},
   "source": [
    "# Grab some data for a different project"
   ]
  },
  {
   "cell_type": "code",
   "execution_count": 2,
   "id": "25154974-60fa-4ce8-b217-3daa6f0b3389",
   "metadata": {
    "tags": []
   },
   "outputs": [],
   "source": [
    "# since this notebook lives in a sub-folder of the main project, I'll add the main folder to the python path\n",
    "import sys\n",
    "sys.path.append(\"../\")\n",
    "import tools.glooko as gl\n",
    "import tools.sugar_plots as spl\n",
    "\n",
    "# plotting etc\n",
    "import pandas as pd\n",
    "\n",
    "import matplotlib.pyplot as plt\n",
    "%matplotlib widget\n",
    "\n",
    "import numpy as np"
   ]
  },
  {
   "cell_type": "markdown",
   "id": "47003fa0-187f-4c8f-a0c3-88e83b996dc7",
   "metadata": {},
   "source": [
    "## Load CGM data"
   ]
  },
  {
   "cell_type": "code",
   "execution_count": 3,
   "id": "a3bd03b7-8616-41df-ab20-a042306efe02",
   "metadata": {
    "tags": []
   },
   "outputs": [
    {
     "data": {
      "text/html": [
       "<div>\n",
       "<style scoped>\n",
       "    .dataframe tbody tr th:only-of-type {\n",
       "        vertical-align: middle;\n",
       "    }\n",
       "\n",
       "    .dataframe tbody tr th {\n",
       "        vertical-align: top;\n",
       "    }\n",
       "\n",
       "    .dataframe thead th {\n",
       "        text-align: right;\n",
       "    }\n",
       "</style>\n",
       "<table border=\"1\" class=\"dataframe\">\n",
       "  <thead>\n",
       "    <tr style=\"text-align: right;\">\n",
       "      <th></th>\n",
       "      <th>time</th>\n",
       "      <th>bg</th>\n",
       "      <th>dayofyear</th>\n",
       "      <th>year</th>\n",
       "      <th>yearday</th>\n",
       "    </tr>\n",
       "  </thead>\n",
       "  <tbody>\n",
       "    <tr>\n",
       "      <th>0</th>\n",
       "      <td>2023-03-11 19:33:00-05:00</td>\n",
       "      <td>247.0</td>\n",
       "      <td>18</td>\n",
       "      <td>2023</td>\n",
       "      <td>2023-018</td>\n",
       "    </tr>\n",
       "    <tr>\n",
       "      <th>1</th>\n",
       "      <td>2023-03-11 19:28:00-05:00</td>\n",
       "      <td>241.0</td>\n",
       "      <td>18</td>\n",
       "      <td>2023</td>\n",
       "      <td>2023-018</td>\n",
       "    </tr>\n",
       "    <tr>\n",
       "      <th>2</th>\n",
       "      <td>2023-03-11 19:23:00-05:00</td>\n",
       "      <td>232.0</td>\n",
       "      <td>18</td>\n",
       "      <td>2023</td>\n",
       "      <td>2023-018</td>\n",
       "    </tr>\n",
       "    <tr>\n",
       "      <th>3</th>\n",
       "      <td>2023-03-11 19:18:00-05:00</td>\n",
       "      <td>225.0</td>\n",
       "      <td>18</td>\n",
       "      <td>2023</td>\n",
       "      <td>2023-018</td>\n",
       "    </tr>\n",
       "    <tr>\n",
       "      <th>4</th>\n",
       "      <td>2023-03-11 19:13:00-05:00</td>\n",
       "      <td>219.0</td>\n",
       "      <td>18</td>\n",
       "      <td>2023</td>\n",
       "      <td>2023-018</td>\n",
       "    </tr>\n",
       "  </tbody>\n",
       "</table>\n",
       "</div>"
      ],
      "text/plain": [
       "                       time     bg dayofyear  year   yearday\n",
       "0 2023-03-11 19:33:00-05:00  247.0        18  2023  2023-018\n",
       "1 2023-03-11 19:28:00-05:00  241.0        18  2023  2023-018\n",
       "2 2023-03-11 19:23:00-05:00  232.0        18  2023  2023-018\n",
       "3 2023-03-11 19:18:00-05:00  225.0        18  2023  2023-018\n",
       "4 2023-03-11 19:13:00-05:00  219.0        18  2023  2023-018"
      ]
     },
     "execution_count": 3,
     "metadata": {},
     "output_type": "execute_result"
    }
   ],
   "source": [
    "data_folder = r\"../data\"\n",
    "df_cgm, df_bolus, df_basal, df_insulin, df_cgm_daily = gl.merge_data(data_folder)\n",
    "df_cgm.sort_values(by=\"time\", inplace=True)\n",
    "\n",
    "# Add time zone info\n",
    "df_cgm[\"time\"] = df_cgm[\"time\"].dt.tz_localize(\n",
    "    'US/Eastern', nonexistent='shift_backward').reset_index(drop=True)\n",
    "\n",
    "df_cgm.reset_index(drop=True, inplace=True)\n",
    "\n",
    "df_cgm.head()"
   ]
  },
  {
   "cell_type": "markdown",
   "id": "e166c81d-bfd4-43f1-831f-8ee2bc97d732",
   "metadata": {},
   "source": [
    "## Load Pod Alarm data"
   ]
  },
  {
   "cell_type": "code",
   "execution_count": 13,
   "id": "8d8e347b-1731-4411-909e-01c8864d2580",
   "metadata": {
    "tags": []
   },
   "outputs": [],
   "source": [
    "import glob \n",
    "\n",
    "files = glob.glob(data_folder + '/**/alarms_data.csv', \n",
    "                  recursive = True) \n",
    "\n",
    "# Concatenate all files into a dataframe\n",
    "df_alarms = (pd.concat((pd.read_csv(f, header=1) for f in files), \n",
    "                       ignore_index=True).drop_duplicates())\n",
    "\n",
    "# Convert time to datetime format and add time zone information\n",
    "df_alarms[\"time\"] = (pd.to_datetime(df_alarms[\"Timestamp\"])                       \n",
    "                   .dt.tz_localize('US/Eastern', nonexistent='shift_backward')) \n",
    "\n",
    "df_alarms = df_alarms.sort_values(by=\"time\").reset_index(drop=True)\n",
    "\n",
    "\n",
    "# Flag for pod change (seems most reliable?)\n",
    "pod_change_flag = 'Pod will expire at user set time'\n",
    "\n"
   ]
  },
  {
   "cell_type": "markdown",
   "id": "2cfc2c59-2425-4e94-8337-fccafd5579a2",
   "metadata": {
    "tags": []
   },
   "source": [
    "## PICKLE"
   ]
  },
  {
   "cell_type": "code",
   "execution_count": 15,
   "id": "faf70ea0-39ef-4d67-b44f-6184dce5f3a2",
   "metadata": {
    "tags": []
   },
   "outputs": [],
   "source": [
    "import pickle\n",
    "\n",
    "# Get all the data I want to pickle together\n",
    "glooko_data = (df_cgm,\n",
    "               df_alarms,\n",
    "               pod_change_flag)\n",
    "\n",
    "# Pickle!\n",
    "out_file_name = r\"../../data/glooko_cgm_and_pump.pkl\"\n",
    "file = open(out_file_name, 'wb')\n",
    "\n",
    "# dump information to that file\n",
    "pickle.dump(glooko_data, file)\n",
    "\n",
    "# close the file\n",
    "file.close()"
   ]
  },
  {
   "cell_type": "code",
   "execution_count": null,
   "id": "bcac5aa2-d622-4fb3-a931-6605659b70d4",
   "metadata": {
    "tags": []
   },
   "outputs": [],
   "source": []
  },
  {
   "cell_type": "code",
   "execution_count": null,
   "id": "b4ad1ebf-1d3c-4179-bc02-ba7dc4a0e7fc",
   "metadata": {},
   "outputs": [],
   "source": []
  }
 ],
 "metadata": {
  "kernelspec": {
   "display_name": "Python 3 (ipykernel)",
   "language": "python",
   "name": "python3"
  },
  "language_info": {
   "codemirror_mode": {
    "name": "ipython",
    "version": 3
   },
   "file_extension": ".py",
   "mimetype": "text/x-python",
   "name": "python",
   "nbconvert_exporter": "python",
   "pygments_lexer": "ipython3",
   "version": "3.10.13"
  }
 },
 "nbformat": 4,
 "nbformat_minor": 5
}
