{
 "cells": [
  {
   "cell_type": "markdown",
   "id": "45fccdc4-e613-4a1f-a52b-30eb691bf81c",
   "metadata": {},
   "source": [
    "# Automated Insulin!\n",
    "\n",
    "We changed Alma's pump over to automatic mode yesterday, so that's going to change how I look at this data. The automated insulin delivery focuses on basal. This means the user does not set basal levels - the algorithm does that. \n",
    "\n",
    "I'm thinking of shifting over to looking more at carb ratios and basal/bolus percentages. It's sort of a relief to pull away one of the variables, it is such a complex problem. "
   ]
  },
  {
   "cell_type": "code",
   "execution_count": 5,
   "id": "d6b51b1a-227b-48c7-a6dc-065ab2d00452",
   "metadata": {
    "tags": [
     "hide-input"
    ]
   },
   "outputs": [],
   "source": [
    "# IMPORTS\n",
    "\n",
    "# since this notebook lives in a sub-folder of the main project, I'll add the main folder to the python path\n",
    "import sys\n",
    "sys.path.append(\"../\")\n",
    "\n",
    "# Load my module\n",
    "from tools.glooko import read_all\n",
    "\n",
    "# Load extra stuff that I need\n",
    "import numpy as np\n",
    "from scipy.ndimage import gaussian_filter1d\n",
    "from scipy.signal import argrelextrema\n",
    "\n",
    "# Plotting (matplotlib widge allows for interactivity in the live notebook)\n",
    "import matplotlib.pyplot as plt\n",
    "%matplotlib widget\n"
   ]
  },
  {
   "cell_type": "code",
   "execution_count": 6,
   "id": "261ab13e-49ce-4f88-aaf8-d77766f959f1",
   "metadata": {
    "tags": [
     "hide-input"
    ]
   },
   "outputs": [],
   "source": [
    "# LOAD DATA\n",
    "\n",
    "df_cgm, df_bolus, df_basal, df_insulin = read_all(r\"../data\")\n",
    "\n",
    "# Extract carb correction and insulin correction from bolus dataframe; add as new columns (I think I want these \n",
    "# split out, but I'm not sure. If it works out I may add to my glooko module. \n",
    "df_bolus[\"carb_correction\"] = np.divide(df_bolus[\"carbs_input\"], df_bolus[\"carb_ratio\"])\n",
    "df_bolus[\"insulin_correction\"] = df_bolus[\"insulin_delivered\"] - df_bolus[\"carb_correction\"]\n"
   ]
  },
  {
   "cell_type": "code",
   "execution_count": null,
   "id": "d65e97fc-0f95-4a41-9ef4-15021f2e6d95",
   "metadata": {},
   "outputs": [],
   "source": []
  }
 ],
 "metadata": {
  "kernelspec": {
   "display_name": "Python 3 (ipykernel)",
   "language": "python",
   "name": "python3"
  },
  "language_info": {
   "codemirror_mode": {
    "name": "ipython",
    "version": 3
   },
   "file_extension": ".py",
   "mimetype": "text/x-python",
   "name": "python",
   "nbconvert_exporter": "python",
   "pygments_lexer": "ipython3",
   "version": "3.10.2"
  }
 },
 "nbformat": 4,
 "nbformat_minor": 5
}
