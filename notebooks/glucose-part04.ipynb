{
 "cells": [
  {
   "cell_type": "markdown",
   "id": "45fccdc4-e613-4a1f-a52b-30eb691bf81c",
   "metadata": {},
   "source": [
    "# Plot bolus data\n",
    "\n",
    "I still have a bit of work to do before getting to the data visualizations that live in my imagination (see the [part 3](https://michellejw.github.io/sugar/jupyter/2023/02/20/data_part03.html)). For example, I have not yet working on just basic plotting of insulin data (e.g., bolus, basal, corrections). I'm going to start with plotting bolus data here."
   ]
  },
  {
   "cell_type": "code",
   "execution_count": null,
   "id": "fcc6190e-61df-45c5-97cc-76ff4011199f",
   "metadata": {},
   "outputs": [],
   "source": []
  }
 ],
 "metadata": {
  "kernelspec": {
   "display_name": "Python 3 (ipykernel)",
   "language": "python",
   "name": "python3"
  },
  "language_info": {
   "codemirror_mode": {
    "name": "ipython",
    "version": 3
   },
   "file_extension": ".py",
   "mimetype": "text/x-python",
   "name": "python",
   "nbconvert_exporter": "python",
   "pygments_lexer": "ipython3",
   "version": "3.10.2"
  }
 },
 "nbformat": 4,
 "nbformat_minor": 5
}
